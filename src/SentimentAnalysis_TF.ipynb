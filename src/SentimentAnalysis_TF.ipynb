{
  "nbformat": 4,
  "nbformat_minor": 0,
  "metadata": {
    "colab": {
      "provenance": []
    },
    "kernelspec": {
      "name": "python3",
      "display_name": "Python 3"
    },
    "language_info": {
      "name": "python"
    }
  },
  "cells": [
    {
      "cell_type": "code",
      "execution_count": 1,
      "metadata": {
        "id": "wK66wd10qiHK",
        "colab": {
          "base_uri": "https://localhost:8080/"
        },
        "outputId": "af230201-875a-4252-d37d-536b687b25ec"
      },
      "outputs": [
        {
          "output_type": "stream",
          "name": "stderr",
          "text": [
            "[nltk_data] Downloading package stopwords to /root/nltk_data...\n",
            "[nltk_data]   Package stopwords is already up-to-date!\n",
            "[nltk_data] Downloading package twitter_samples to /root/nltk_data...\n",
            "[nltk_data]   Package twitter_samples is already up-to-date!\n",
            "[nltk_data] Downloading package averaged_perceptron_tagger_eng to\n",
            "[nltk_data]     /root/nltk_data...\n",
            "[nltk_data]   Package averaged_perceptron_tagger_eng is already up-to-\n",
            "[nltk_data]       date!\n",
            "[nltk_data] Downloading package wordnet to /root/nltk_data...\n",
            "[nltk_data]   Package wordnet is already up-to-date!\n"
          ]
        }
      ],
      "source": [
        "import string\n",
        "import re\n",
        "import nltk\n",
        "import numpy as np\n",
        "import tensorflow as tf\n",
        "import matplotlib.pyplot as plt\n",
        "from sklearn.decomposition import PCA\n",
        "from nltk.tokenize import TweetTokenizer\n",
        "from nltk.corpus import stopwords, twitter_samples, wordnet\n",
        "from nltk.stem import WordNetLemmatizer\n",
        "\n",
        "nltk.download('stopwords')\n",
        "nltk.download('twitter_samples')\n",
        "nltk.download('averaged_perceptron_tagger_eng')\n",
        "nltk.download('wordnet')\n",
        "stopwords_english = stopwords.words('english')"
      ]
    },
    {
      "cell_type": "code",
      "source": [
        "lemmatizer = WordNetLemmatizer()\n",
        "\n",
        "def process_tweet(tweet):\n",
        "\n",
        "    # remove stock market tickers like $GE\n",
        "    tweet = re.sub(r'\\$\\w*', '', tweet)\n",
        "    # remove old style retweet text \"RT\"\n",
        "    tweet = re.sub(r'^RT[\\s]+', '', tweet)\n",
        "    # remove hyperlinks\n",
        "    tweet = re.sub(r'https?:\\/\\/.*[\\r\\n]*', '', tweet)\n",
        "    tweet = re.sub(r'#', '', tweet)\n",
        "\n",
        "    tokenizer = TweetTokenizer(preserve_case = False, reduce_len = True, strip_handles = True)\n",
        "    tokens = tokenizer.tokenize(tweet)\n",
        "    tokens_tags = nltk.pos_tag(tokens, lang = 'eng')\n",
        "\n",
        "    tweet_clean = []\n",
        "\n",
        "    for token, tag in tokens_tags:\n",
        "        if (token not in stopwords_english and\n",
        "            token not in string.punctuation):\n",
        "\n",
        "            stem_token = lemmatizer.lemmatize(word = token, pos = pos_tag_convert(tag))\n",
        "            tweet_clean.append(stem_token)\n",
        "\n",
        "    return tweet_clean"
      ],
      "metadata": {
        "id": "v8fBwoM80SmC"
      },
      "execution_count": 2,
      "outputs": []
    },
    {
      "cell_type": "code",
      "source": [
        "def pos_tag_convert(nltk_tag: str):\n",
        "\n",
        "    if nltk_tag.startswith('J'):\n",
        "        return wordnet.ADJ\n",
        "\n",
        "    elif nltk_tag.startswith('V'):\n",
        "        return wordnet.VERB\n",
        "\n",
        "    elif nltk_tag.startswith('N'):\n",
        "        return wordnet.NOUN\n",
        "\n",
        "    elif nltk_tag.startswith('R'):\n",
        "        return wordnet.ADV\n",
        "\n",
        "    else:\n",
        "        return wordnet.NOUN"
      ],
      "metadata": {
        "id": "P5--Wwj2GI1c"
      },
      "execution_count": 3,
      "outputs": []
    },
    {
      "cell_type": "code",
      "source": [
        "def load_tweets():\n",
        "\n",
        "    all_pos_tweets = twitter_samples.strings('positive_tweets.json')\n",
        "    all_neg_tweets = twitter_samples.strings('negative_tweets.json')\n",
        "\n",
        "    return all_pos_tweets, all_neg_tweets"
      ],
      "metadata": {
        "id": "X57miS0_3w7n"
      },
      "execution_count": 4,
      "outputs": []
    },
    {
      "cell_type": "code",
      "source": [
        "all_positive_tweets, all_negative_tweets = load_tweets()"
      ],
      "metadata": {
        "id": "8pecK97LZWsj"
      },
      "execution_count": 5,
      "outputs": []
    },
    {
      "cell_type": "code",
      "source": [
        "all_positive_tweets_processed = list(map(process_tweet , all_positive_tweets))\n",
        "all_negative_tweets_processed = list(map(process_tweet , all_negative_tweets))"
      ],
      "metadata": {
        "id": "jJTpnG9yZb-l"
      },
      "execution_count": 6,
      "outputs": []
    },
    {
      "cell_type": "code",
      "source": [
        "train_positive = all_positive_tweets_processed[:4000]\n",
        "val_positive = all_positive_tweets_processed[4000:]\n",
        "\n",
        "train_negative = all_negative_tweets_processed[:4000]\n",
        "val_negative = all_negative_tweets_processed[4000:]\n",
        "\n",
        "train_x = train_positive + train_negative\n",
        "val_x = val_positive + val_negative\n",
        "\n",
        "# for positive tweets append 1 for negative append 0\n",
        "train_y = [[1] for _ in train_positive] + [[0] for _ in train_negative]\n",
        "val_y  = [[1] for _ in val_positive] + [[0] for _ in val_negative]"
      ],
      "metadata": {
        "id": "eVzvpWjsaIqH"
      },
      "execution_count": 7,
      "outputs": []
    },
    {
      "cell_type": "code",
      "source": [
        "def build_vocabulary(training_corpus):\n",
        "\n",
        "    vocab = {'' : 0 , '[UNK]': 1}\n",
        "    # start index from 2 because we are already have 2 tokens in vocab\n",
        "    current_idx = 2\n",
        "\n",
        "    for sentence in training_corpus:\n",
        "        for word in sentence:\n",
        "\n",
        "            if word not in vocab:\n",
        "                vocab[word] = current_idx\n",
        "                current_idx += 1\n",
        "\n",
        "    return vocab"
      ],
      "metadata": {
        "id": "zSfnW8LEamtE"
      },
      "execution_count": 8,
      "outputs": []
    },
    {
      "cell_type": "code",
      "source": [
        "vocab = build_vocabulary(train_x)"
      ],
      "metadata": {
        "id": "wy7YVLTdb6uC"
      },
      "execution_count": 9,
      "outputs": []
    },
    {
      "cell_type": "code",
      "source": [
        "print(f\"vocab size: {len(vocab)}\\n\")\n",
        "print(\"first 5 elements in vocab\")\n",
        "print({k : v for k, v in list(vocab.items())[:5]})"
      ],
      "metadata": {
        "colab": {
          "base_uri": "https://localhost:8080/"
        },
        "id": "7P4iP6v3g-FU",
        "outputId": "29907831-71a7-4f59-f5c9-bb77d66867c3"
      },
      "execution_count": 10,
      "outputs": [
        {
          "output_type": "stream",
          "name": "stdout",
          "text": [
            "vocab size: 9544\n",
            "\n",
            "first 5 elements in vocab\n",
            "{'': 0, '[UNK]': 1, 'followfriday': 2, 'top': 3, 'engage': 4}\n"
          ]
        }
      ]
    },
    {
      "cell_type": "code",
      "source": [
        "# visualize the sequence length\n",
        "plt.hist([len(t) for t in train_x + val_x]);"
      ],
      "metadata": {
        "colab": {
          "base_uri": "https://localhost:8080/",
          "height": 430
        },
        "id": "UBFeRSI_hDbX",
        "outputId": "a10648f2-4383-4f95-c044-197a1362b229"
      },
      "execution_count": 11,
      "outputs": [
        {
          "output_type": "display_data",
          "data": {
            "text/plain": [
              "<Figure size 640x480 with 1 Axes>"
            ],
            "image/png": "[encoded data removed]"
          },
          "metadata": {}
        }
      ]
    },
    {
      "cell_type": "code",
      "source": [
        "def max_length(training_x, validation_x):\n",
        "\n",
        "    max_len = max([len(tweet) for tweet in training_x + validation_x])\n",
        "\n",
        "    return max_len"
      ],
      "metadata": {
        "id": "85eWUhk5tbo6"
      },
      "execution_count": 12,
      "outputs": []
    },
    {
      "cell_type": "code",
      "source": [
        "max_len = max_length(train_x, val_x)\n",
        "print(f\"max input length: {max_len}\")"
      ],
      "metadata": {
        "colab": {
          "base_uri": "https://localhost:8080/"
        },
        "id": "QJLqTjIht1Ok",
        "outputId": "c9d04e5d-c646-4e24-a9d2-870201ac6fdf"
      },
      "execution_count": 13,
      "outputs": [
        {
          "output_type": "stream",
          "name": "stdout",
          "text": [
            "max input length: 51\n"
          ]
        }
      ]
    },
    {
      "cell_type": "code",
      "source": [
        "def padded_sequence(tweet, vocab, max_len, unk_token = '[UNK]'):\n",
        "\n",
        "    # if the word exists in vocab return its idx, if not return UNK idx\n",
        "    tweet_idxs = list(map(lambda word : vocab.get(word, vocab[unk_token]), tweet))\n",
        "\n",
        "    # get the padding\n",
        "    pad = [vocab[unk_token]] * (max_len - len(tweet_idxs))\n",
        "\n",
        "    # pad the sequence to the max length\n",
        "    padded_tweet = tweet_idxs + pad\n",
        "\n",
        "    return padded_tweet"
      ],
      "metadata": {
        "id": "VIa53z1ot7Du"
      },
      "execution_count": 14,
      "outputs": []
    },
    {
      "cell_type": "code",
      "source": [
        "train_x_padded = list(map(lambda x : padded_sequence(x,vocab, max_len) , train_x))\n",
        "val_x_padded = list(map(lambda x : padded_sequence(x,vocab, max_len) , val_x))"
      ],
      "metadata": {
        "id": "fNQEKTSxwHsw"
      },
      "execution_count": 15,
      "outputs": []
    },
    {
      "cell_type": "code",
      "source": [
        "def sigmoid(z):\n",
        "    return 1 / (1 + np.exp(-z))\n",
        "\n",
        "def relu(z):\n",
        "    return np.maximum(0, z)"
      ],
      "metadata": {
        "id": "I9g0t2h-xrM1"
      },
      "execution_count": 16,
      "outputs": []
    },
    {
      "cell_type": "code",
      "source": [
        "# column vector\n",
        "v = np.array([[12],[13],[-2],[-0.002],[2.5],[0]])\n",
        "\n",
        "print(\"try sigmoid function\")\n",
        "print(sigmoid(v),\"\\n\")\n",
        "\n",
        "print(\"try relu function\")\n",
        "print(relu(v))"
      ],
      "metadata": {
        "colab": {
          "base_uri": "https://localhost:8080/"
        },
        "id": "4nZHjiD-zemD",
        "outputId": "9310b23b-f900-449d-d41d-2f4ccf9fbadf"
      },
      "execution_count": 17,
      "outputs": [
        {
          "output_type": "stream",
          "name": "stdout",
          "text": [
            "try sigmoid function\n",
            "[[0.99999386]\n",
            " [0.99999774]\n",
            " [0.11920292]\n",
            " [0.4995    ]\n",
            " [0.92414182]\n",
            " [0.5       ]] \n",
            "\n",
            "try relu function\n",
            "[[12. ]\n",
            " [13. ]\n",
            " [ 0. ]\n",
            " [ 0. ]\n",
            " [ 2.5]\n",
            " [ 0. ]]\n"
          ]
        }
      ]
    },
    {
      "cell_type": "code",
      "source": [
        "class Dense():\n",
        "\n",
        "    def __init__(self, n_units, input_size, activation, std = 1, random_seed = 42):\n",
        "\n",
        "        self.n_units = n_units\n",
        "        self.input_size = input_size\n",
        "        self.activation = activation\n",
        "\n",
        "        self.random_generator = np.random.default_rng(seed = random_seed)\n",
        "        self.weights = self.random_generator.normal(scale = std, size = (n_units, input_size[-1]))\n",
        "\n",
        "    def forward(self, x):\n",
        "\n",
        "        dense = np.dot(self.weights, x)\n",
        "        dense = self.activation(dense)\n",
        "\n",
        "        return dense\n",
        "\n",
        "    def __call__(self, x):\n",
        "        return self.forward(x)"
      ],
      "metadata": {
        "id": "hPgOFT0zzgjQ"
      },
      "execution_count": 18,
      "outputs": []
    },
    {
      "cell_type": "code",
      "source": [
        "n_units = 10\n",
        "input = train_x_padded[0]\n",
        "activation = sigmoid\n",
        "dense_layer = Dense(n_units, np.array(input).shape, activation)"
      ],
      "metadata": {
        "id": "fvF5T_5b2yCP"
      },
      "execution_count": 19,
      "outputs": []
    },
    {
      "cell_type": "code",
      "source": [
        "print(f\"wights shape: {dense_layer.weights.shape}\")"
      ],
      "metadata": {
        "colab": {
          "base_uri": "https://localhost:8080/"
        },
        "collapsed": true,
        "id": "d21Lox2S3GAd",
        "outputId": "d9a3ce8c-1306-4034-9a16-dbfbdf27d7e0"
      },
      "execution_count": 20,
      "outputs": [
        {
          "output_type": "stream",
          "name": "stdout",
          "text": [
            "wights shape: (10, 51)\n"
          ]
        }
      ]
    },
    {
      "cell_type": "code",
      "source": [
        "print(f\"output shape: {dense_layer(input).shape}\")"
      ],
      "metadata": {
        "colab": {
          "base_uri": "https://localhost:8080/"
        },
        "id": "DVIuf3x-3QJu",
        "outputId": "a91f4f11-6177-4a14-9416-fb408d35f0a1"
      },
      "execution_count": 21,
      "outputs": [
        {
          "output_type": "stream",
          "name": "stdout",
          "text": [
            "output shape: (10,)\n"
          ]
        }
      ]
    },
    {
      "cell_type": "code",
      "source": [
        "def create_model(vocab_size, embed_dim, activation):\n",
        "\n",
        "    model = tf.keras.Sequential([\n",
        "        tf.keras.layers.Embedding(vocab_size, embed_dim),\n",
        "        #merges each sequence to be represented in one vector\n",
        "        # ex, input seq (2, 4, 3), the output will be (2, 3)\n",
        "        tf.keras.layers.GlobalAveragePooling1D(),\n",
        "        tf.keras.layers.Dense(1, activation)\n",
        "    ])\n",
        "\n",
        "    model.compile(loss = 'binary_crossentropy',\n",
        "                  optimizer = 'adam',\n",
        "                  metrics = ['accuracy'])\n",
        "\n",
        "    return model"
      ],
      "metadata": {
        "id": "-qmZd57G4Mh1"
      },
      "execution_count": 22,
      "outputs": []
    },
    {
      "cell_type": "code",
      "source": [
        "vocab_size = len(vocab)\n",
        "embed_dim = 16\n",
        "activation = 'sigmoid'\n",
        "model = create_model(vocab_size, embed_dim, activation)"
      ],
      "metadata": {
        "id": "Qh-CvTfTVH_y"
      },
      "execution_count": 23,
      "outputs": []
    },
    {
      "cell_type": "code",
      "source": [
        "train_x_prepared = np.array(train_x_padded)\n",
        "val_x_prepared = np.array(val_x_padded)\n",
        "\n",
        "train_y_prepared = np.array(train_y)\n",
        "val_y_prepared = np.array(val_y)"
      ],
      "metadata": {
        "id": "XhsX3RA_VeMw"
      },
      "execution_count": 24,
      "outputs": []
    },
    {
      "cell_type": "code",
      "source": [
        "model.fit(x = train_x_prepared,\n",
        "          y = train_y_prepared,\n",
        "          validation_data = (val_x_prepared, val_y_prepared),\n",
        "          epochs=20)"
      ],
      "metadata": {
        "colab": {
          "base_uri": "https://localhost:8080/"
        },
        "id": "azfTG25oWBlP",
        "outputId": "f6edb0b9-1b1b-4f25-da85-836c80d0b83c",
        "collapsed": true
      },
      "execution_count": 25,
      "outputs": [
        {
          "output_type": "stream",
          "name": "stdout",
          "text": [
            "Epoch 1/20\n",
            "\u001b[1m250/250\u001b[0m \u001b[32m━━━━━━━━━━━━━━━━━━━━\u001b[0m\u001b[37m\u001b[0m \u001b[1m2s\u001b[0m 4ms/step - accuracy: 0.5652 - loss: 0.6842 - val_accuracy: 0.8615 - val_loss: 0.6233\n",
            "Epoch 2/20\n",
            "\u001b[1m250/250\u001b[0m \u001b[32m━━━━━━━━━━━━━━━━━━━━\u001b[0m\u001b[37m\u001b[0m \u001b[1m1s\u001b[0m 3ms/step - accuracy: 0.9629 - loss: 0.5794 - val_accuracy: 0.9955 - val_loss: 0.4483\n",
            "Epoch 3/20\n",
            "\u001b[1m250/250\u001b[0m \u001b[32m━━━━━━━━━━━━━━━━━━━━\u001b[0m\u001b[37m\u001b[0m \u001b[1m1s\u001b[0m 3ms/step - accuracy: 0.9877 - loss: 0.3998 - val_accuracy: 0.9945 - val_loss: 0.2880\n",
            "Epoch 4/20\n",
            "\u001b[1m250/250\u001b[0m \u001b[32m━━━━━━━━━━━━━━━━━━━━\u001b[0m\u001b[37m\u001b[0m \u001b[1m1s\u001b[0m 3ms/step - accuracy: 0.9942 - loss: 0.2550 - val_accuracy: 0.9965 - val_loss: 0.1883\n",
            "Epoch 5/20\n",
            "\u001b[1m250/250\u001b[0m \u001b[32m━━━━━━━━━━━━━━━━━━━━\u001b[0m\u001b[37m\u001b[0m \u001b[1m1s\u001b[0m 3ms/step - accuracy: 0.9942 - loss: 0.1650 - val_accuracy: 0.9965 - val_loss: 0.1299\n",
            "Epoch 6/20\n",
            "\u001b[1m250/250\u001b[0m \u001b[32m━━━━━━━━━━━━━━━━━━━━\u001b[0m\u001b[37m\u001b[0m \u001b[1m1s\u001b[0m 3ms/step - accuracy: 0.9947 - loss: 0.1156 - val_accuracy: 0.9940 - val_loss: 0.0960\n",
            "Epoch 7/20\n",
            "\u001b[1m250/250\u001b[0m \u001b[32m━━━━━━━━━━━━━━━━━━━━\u001b[0m\u001b[37m\u001b[0m \u001b[1m1s\u001b[0m 3ms/step - accuracy: 0.9966 - loss: 0.0820 - val_accuracy: 0.9950 - val_loss: 0.0701\n",
            "Epoch 8/20\n",
            "\u001b[1m250/250\u001b[0m \u001b[32m━━━━━━━━━━━━━━━━━━━━\u001b[0m\u001b[37m\u001b[0m \u001b[1m1s\u001b[0m 3ms/step - accuracy: 0.9941 - loss: 0.0654 - val_accuracy: 0.9950 - val_loss: 0.0553\n",
            "Epoch 9/20\n",
            "\u001b[1m250/250\u001b[0m \u001b[32m━━━━━━━━━━━━━━━━━━━━\u001b[0m\u001b[37m\u001b[0m \u001b[1m1s\u001b[0m 3ms/step - accuracy: 0.9955 - loss: 0.0529 - val_accuracy: 0.9950 - val_loss: 0.0450\n",
            "Epoch 10/20\n",
            "\u001b[1m250/250\u001b[0m \u001b[32m━━━━━━━━━━━━━━━━━━━━\u001b[0m\u001b[37m\u001b[0m \u001b[1m2s\u001b[0m 6ms/step - accuracy: 0.9956 - loss: 0.0413 - val_accuracy: 0.9965 - val_loss: 0.0390\n",
            "Epoch 11/20\n",
            "\u001b[1m250/250\u001b[0m \u001b[32m━━━━━━━━━━━━━━━━━━━━\u001b[0m\u001b[37m\u001b[0m \u001b[1m2s\u001b[0m 3ms/step - accuracy: 0.9946 - loss: 0.0362 - val_accuracy: 0.9960 - val_loss: 0.0324\n",
            "Epoch 12/20\n",
            "\u001b[1m250/250\u001b[0m \u001b[32m━━━━━━━━━━━━━━━━━━━━\u001b[0m\u001b[37m\u001b[0m \u001b[1m1s\u001b[0m 3ms/step - accuracy: 0.9942 - loss: 0.0331 - val_accuracy: 0.9950 - val_loss: 0.0276\n",
            "Epoch 13/20\n",
            "\u001b[1m250/250\u001b[0m \u001b[32m━━━━━━━━━━━━━━━━━━━━\u001b[0m\u001b[37m\u001b[0m \u001b[1m1s\u001b[0m 3ms/step - accuracy: 0.9963 - loss: 0.0247 - val_accuracy: 0.9950 - val_loss: 0.0240\n",
            "Epoch 14/20\n",
            "\u001b[1m250/250\u001b[0m \u001b[32m━━━━━━━━━━━━━━━━━━━━\u001b[0m\u001b[37m\u001b[0m \u001b[1m1s\u001b[0m 3ms/step - accuracy: 0.9969 - loss: 0.0248 - val_accuracy: 0.9960 - val_loss: 0.0215\n",
            "Epoch 15/20\n",
            "\u001b[1m250/250\u001b[0m \u001b[32m━━━━━━━━━━━━━━━━━━━━\u001b[0m\u001b[37m\u001b[0m \u001b[1m1s\u001b[0m 3ms/step - accuracy: 0.9971 - loss: 0.0200 - val_accuracy: 0.9960 - val_loss: 0.0193\n",
            "Epoch 16/20\n",
            "\u001b[1m250/250\u001b[0m \u001b[32m━━━━━━━━━━━━━━━━━━━━\u001b[0m\u001b[37m\u001b[0m \u001b[1m1s\u001b[0m 3ms/step - accuracy: 0.9964 - loss: 0.0190 - val_accuracy: 0.9955 - val_loss: 0.0174\n",
            "Epoch 17/20\n",
            "\u001b[1m250/250\u001b[0m \u001b[32m━━━━━━━━━━━━━━━━━━━━\u001b[0m\u001b[37m\u001b[0m \u001b[1m1s\u001b[0m 3ms/step - accuracy: 0.9960 - loss: 0.0182 - val_accuracy: 0.9965 - val_loss: 0.0165\n",
            "Epoch 18/20\n",
            "\u001b[1m250/250\u001b[0m \u001b[32m━━━━━━━━━━━━━━━━━━━━\u001b[0m\u001b[37m\u001b[0m \u001b[1m1s\u001b[0m 3ms/step - accuracy: 0.9965 - loss: 0.0166 - val_accuracy: 0.9965 - val_loss: 0.0147\n",
            "Epoch 19/20\n",
            "\u001b[1m250/250\u001b[0m \u001b[32m━━━━━━━━━━━━━━━━━━━━\u001b[0m\u001b[37m\u001b[0m \u001b[1m1s\u001b[0m 3ms/step - accuracy: 0.9976 - loss: 0.0138 - val_accuracy: 0.9950 - val_loss: 0.0153\n",
            "Epoch 20/20\n",
            "\u001b[1m250/250\u001b[0m \u001b[32m━━━━━━━━━━━━━━━━━━━━\u001b[0m\u001b[37m\u001b[0m \u001b[1m1s\u001b[0m 3ms/step - accuracy: 0.9978 - loss: 0.0134 - val_accuracy: 0.9965 - val_loss: 0.0128\n"
          ]
        },
        {
          "output_type": "execute_result",
          "data": {
            "text/plain": [
              "<keras.src.callbacks.history.History at 0x7a5d57e60d10>"
            ]
          },
          "metadata": {},
          "execution_count": 25
        }
      ]
    },
    {
      "cell_type": "code",
      "source": [
        "def get_prediction_from_tweet(tweet: str, model: model, vocab, max_len):\n",
        "\n",
        "    tweet = process_tweet(tweet)\n",
        "    tweet = padded_sequence(tweet, vocab, max_len)\n",
        "    tweet = np.array([tweet])\n",
        "\n",
        "    pred = model.predict(tweet)\n",
        "\n",
        "    return pred"
      ],
      "metadata": {
        "id": "M2Pf-J54XzOa"
      },
      "execution_count": 26,
      "outputs": []
    },
    {
      "cell_type": "code",
      "source": [
        "unseen_tweet = '@DLAI @NLP_team_dlai OMG!!! what bad a good daaay, wow, wow. This AsSiGnMeNt was gr8.'\n",
        "\n",
        "get_prediction_from_tweet(unseen_tweet, model, vocab,max_len)"
      ],
      "metadata": {
        "colab": {
          "base_uri": "https://localhost:8080/"
        },
        "id": "z-3kT9dqX2tl",
        "outputId": "0864b2a9-9834-462e-e19a-579db2046ca2"
      },
      "execution_count": 27,
      "outputs": [
        {
          "output_type": "stream",
          "name": "stdout",
          "text": [
            "\u001b[1m1/1\u001b[0m \u001b[32m━━━━━━━━━━━━━━━━━━━━\u001b[0m\u001b[37m\u001b[0m \u001b[1m0s\u001b[0m 95ms/step\n"
          ]
        },
        {
          "output_type": "execute_result",
          "data": {
            "text/plain": [
              "array([[0.6721688]], dtype=float32)"
            ]
          },
          "metadata": {},
          "execution_count": 27
        }
      ]
    },
    {
      "cell_type": "code",
      "source": [
        "embed_weights = model.layers[0].weights[0]"
      ],
      "metadata": {
        "id": "omTws7jIaGz4"
      },
      "execution_count": 28,
      "outputs": []
    },
    {
      "cell_type": "code",
      "source": [
        "embed_weights"
      ],
      "metadata": {
        "colab": {
          "base_uri": "https://localhost:8080/"
        },
        "id": "JHmZXg2tJ0kQ",
        "outputId": "a56d9e0a-2072-4d6b-842a-bd61e998dfd7"
      },
      "execution_count": 29,
      "outputs": [
        {
          "output_type": "execute_result",
          "data": {
            "text/plain": [
              "<KerasVariable shape=(9544, 16), dtype=float32, path=sequential/embedding/embeddings>"
            ]
          },
          "metadata": {},
          "execution_count": 29
        }
      ]
    },
    {
      "cell_type": "code",
      "source": [
        "pca = PCA(n_components = 2)\n",
        "embeddings_2D = pca.fit_transform(embed_weights)"
      ],
      "metadata": {
        "id": "R90q3kLRw92W"
      },
      "execution_count": 30,
      "outputs": []
    },
    {
      "cell_type": "code",
      "source": [
        "embeddings_2D"
      ],
      "metadata": {
        "colab": {
          "base_uri": "https://localhost:8080/"
        },
        "id": "-SSTiMU3MHEH",
        "outputId": "8bf86f71-976d-497a-e791-4ad9b6d59fb2"
      },
      "execution_count": 31,
      "outputs": [
        {
          "output_type": "execute_result",
          "data": {
            "text/plain": [
              "array([[-0.02229602,  0.01172211],\n",
              "       [-0.04365615,  0.01351624],\n",
              "       [-1.97163742, -0.0503504 ],\n",
              "       ...,\n",
              "       [ 0.45126094,  0.03200919],\n",
              "       [ 0.72559031,  0.01573907],\n",
              "       [ 0.46540534, -0.06063522]])"
            ]
          },
          "metadata": {},
          "execution_count": 31
        }
      ]
    },
    {
      "cell_type": "code",
      "source": [
        "neg_words = ['bad', 'hurt', 'sad', 'hate', 'worst']\n",
        "pos_words = ['best', 'good', 'nice', 'love', 'better']\n",
        "\n",
        "neg_n = [vocab[w] for w in neg_words]\n",
        "pos_n = [vocab[w] for w in pos_words]"
      ],
      "metadata": {
        "id": "xjA7dwHJy2bX"
      },
      "execution_count": 32,
      "outputs": []
    },
    {
      "cell_type": "code",
      "source": [
        "plt.scatter(embeddings_2D[neg_n][:,0], embeddings_2D[neg_n][:,1])\n",
        "plt.scatter(embeddings_2D[pos_n][:,0], embeddings_2D[pos_n][:,1])\n",
        "\n",
        "for i in range(len(neg_n)):\n",
        "    plt.annotate(neg_words[i], (embeddings_2D[neg_n][i,0],embeddings_2D[neg_n][i,1]))\n",
        "\n",
        "for i in range(len(pos_n)):\n",
        "    plt.annotate(pos_words[i],(embeddings_2D[pos_n][i,0],embeddings_2D[pos_n][i,1]))"
      ],
      "metadata": {
        "colab": {
          "base_uri": "https://localhost:8080/",
          "height": 430
        },
        "id": "kty-J4jI1jvs",
        "outputId": "a56a2144-b70e-4837-b054-0b179942b11e"
      },
      "execution_count": 33,
      "outputs": [
        {
          "output_type": "display_data",
          "data": {
            "text/plain": [
              "<Figure size 640x480 with 1 Axes>"
            ],
            "image/png": "[encoded data removed]"
          },
          "metadata": {}
        }
      ]
    }
  ]
}